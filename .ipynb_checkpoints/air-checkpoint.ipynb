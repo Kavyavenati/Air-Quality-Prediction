{
 "cells": [
  {
   "cell_type": "markdown",
   "metadata": {},
   "source": [
    "# Data Pre-processing"
   ]
  },
  {
   "cell_type": "code",
   "execution_count": 76,
   "metadata": {},
   "outputs": [],
   "source": [
    "# import libraries\n",
    "import os\n",
    "import numpy as np\n",
    "import pandas as pd\n",
    "import matplotlib.pyplot as plt\n",
    "import seaborn as sns"
   ]
  },
  {
   "cell_type": "code",
   "execution_count": 77,
   "metadata": {},
   "outputs": [],
   "source": [
    "# set input directory\n",
    "input_dir = 'input'"
   ]
  },
  {
   "cell_type": "code",
   "execution_count": 78,
   "metadata": {},
   "outputs": [],
   "source": [
    "# set dataset file name\n",
    "input_data_file = 'data.xlsx'"
   ]
  },
  {
   "cell_type": "code",
   "execution_count": 79,
   "metadata": {
    "scrolled": true
   },
   "outputs": [
    {
     "data": {
      "text/plain": [
       "['data.xlsx', 'labeled_data.csv']"
      ]
     },
     "execution_count": 79,
     "metadata": {},
     "output_type": "execute_result"
    }
   ],
   "source": [
    "# display list of files in input directory\n",
    "os.listdir('input')"
   ]
  },
  {
   "cell_type": "code",
   "execution_count": 80,
   "metadata": {},
   "outputs": [
    {
     "data": {
      "text/plain": [
       "'.\\\\input\\\\data.xlsx'"
      ]
     },
     "execution_count": 80,
     "metadata": {},
     "output_type": "execute_result"
    }
   ],
   "source": [
    "# to get the input data path\n",
    "data_path = os.path.join(os.curdir,input_dir,input_data_file)\n",
    "data_path"
   ]
  },
  {
   "cell_type": "code",
   "execution_count": null,
   "metadata": {},
   "outputs": [],
   "source": [
    "# to read data from excel file\n",
    "raw_data = pd.read_excel(data_path)"
   ]
  },
  {
   "cell_type": "code",
   "execution_count": null,
   "metadata": {},
   "outputs": [],
   "source": [
    "raw_data.head()"
   ]
  },
  {
   "cell_type": "code",
   "execution_count": null,
   "metadata": {},
   "outputs": [],
   "source": [
    "raw_data.info()"
   ]
  },
  {
   "cell_type": "code",
   "execution_count": null,
   "metadata": {},
   "outputs": [],
   "source": [
    "raw_data.columns"
   ]
  },
  {
   "cell_type": "code",
   "execution_count": null,
   "metadata": {},
   "outputs": [],
   "source": [
    "raw_data.isna().sum()"
   ]
  },
  {
   "cell_type": "code",
   "execution_count": null,
   "metadata": {},
   "outputs": [],
   "source": [
    "# drop rows which contains nan\n",
    "raw_data.dropna(axis = 0, inplace=True)"
   ]
  },
  {
   "cell_type": "code",
   "execution_count": null,
   "metadata": {},
   "outputs": [],
   "source": [
    "raw_data.isna().sum()"
   ]
  },
  {
   "cell_type": "code",
   "execution_count": null,
   "metadata": {},
   "outputs": [],
   "source": [
    "def numeric(row):\n",
    "    try:\n",
    "        if np.isnan(row):\n",
    "            return\n",
    "        else:\n",
    "            row =str(row)\n",
    "            return float(row.replace('x','').replace('#','').replace('*',''))\n",
    "    except TypeError:\n",
    "        row =str(row)\n",
    "        return float(row.replace('x','').replace('#','').replace('*',''))"
   ]
  },
  {
   "cell_type": "code",
   "execution_count": null,
   "metadata": {},
   "outputs": [],
   "source": [
    "raw_data['O3'] = raw_data['O3'].apply(numeric)\n",
    "#print(raw_data['NO'].describe())"
   ]
  },
  {
   "cell_type": "code",
   "execution_count": null,
   "metadata": {},
   "outputs": [],
   "source": [
    "raw_data['PM2.5'] = raw_data['PM2.5'].apply(numeric)\n",
    "raw_data['TEMP'] = raw_data['TEMP'].apply(numeric)\n",
    "raw_data['CH4'] = raw_data['CH4'].apply(numeric)\n",
    "raw_data['CO'] = raw_data['CO'].apply(numeric)\n",
    "raw_data['NMHC'] = raw_data['NMHC'].apply(numeric)\n",
    "raw_data['NO'] = raw_data['NO'].apply(numeric)\n",
    "raw_data['NO2'] = raw_data['NO2'].apply(numeric)\n",
    "raw_data['NOx'] = raw_data['NOx'].apply(numeric)\n",
    "raw_data['PM10'] = raw_data['PM10'].apply(numeric)\n",
    "raw_data['RH'] = raw_data['RH'].apply(numeric)\n",
    "raw_data['SO2'] = raw_data['SO2'].apply(numeric)"
   ]
  },
  {
   "cell_type": "code",
   "execution_count": null,
   "metadata": {},
   "outputs": [],
   "source": [
    "len(raw_data)"
   ]
  },
  {
   "cell_type": "code",
   "execution_count": null,
   "metadata": {},
   "outputs": [],
   "source": [
    "raw_data = raw_data[0:5000]"
   ]
  },
  {
   "cell_type": "code",
   "execution_count": null,
   "metadata": {},
   "outputs": [],
   "source": [
    "raw_data.info()"
   ]
  },
  {
   "cell_type": "code",
   "execution_count": null,
   "metadata": {},
   "outputs": [],
   "source": [
    "raw_data.describe()"
   ]
  },
  {
   "cell_type": "code",
   "execution_count": null,
   "metadata": {},
   "outputs": [],
   "source": [
    "temp_data = raw_data[['TEMP','RH','CH4','NMHC','NO', 'NOx']]"
   ]
  },
  {
   "cell_type": "code",
   "execution_count": null,
   "metadata": {},
   "outputs": [],
   "source": [
    "# axis = 1 : columnwise operation\n",
    "data = raw_data.drop(columns=['TEMP','RH','CH4','NMHC','NO', 'NOx'],axis=1)\n",
    "data.head()"
   ]
  },
  {
   "cell_type": "code",
   "execution_count": null,
   "metadata": {},
   "outputs": [],
   "source": [
    "data['AQI']= data.max(axis=1)\n",
    "data.head()"
   ]
  },
  {
   "cell_type": "code",
   "execution_count": null,
   "metadata": {},
   "outputs": [],
   "source": [
    "data['AQI'].describe()"
   ]
  },
  {
   "cell_type": "code",
   "execution_count": null,
   "metadata": {},
   "outputs": [],
   "source": [
    "aqi = data['AQI']\n",
    "#aqi"
   ]
  },
  {
   "cell_type": "code",
   "execution_count": null,
   "metadata": {},
   "outputs": [],
   "source": [
    "aqi[(aqi > 0) & (aqi <= 50)] = 0\n",
    "aqi[(aqi > 50) & (aqi <= 100)] = 1\n",
    "aqi[(aqi > 100) & (aqi <= 150)] = 2\n",
    "aqi[(aqi > 150) & (aqi <= 200)] = 3\n",
    "aqi[(aqi > 200)] = 4"
   ]
  },
  {
   "cell_type": "code",
   "execution_count": null,
   "metadata": {},
   "outputs": [],
   "source": [
    "aqi.unique()"
   ]
  },
  {
   "cell_type": "code",
   "execution_count": null,
   "metadata": {},
   "outputs": [],
   "source": [
    "data['label'] = data['AQI'].astype('int8')"
   ]
  },
  {
   "cell_type": "code",
   "execution_count": null,
   "metadata": {},
   "outputs": [],
   "source": [
    "data.drop(columns=['AQI'], axis= 1, inplace=True)"
   ]
  },
  {
   "cell_type": "code",
   "execution_count": null,
   "metadata": {},
   "outputs": [],
   "source": [
    "data.tail()"
   ]
  },
  {
   "cell_type": "code",
   "execution_count": null,
   "metadata": {},
   "outputs": [],
   "source": [
    "temp_data.head()"
   ]
  },
  {
   "cell_type": "code",
   "execution_count": null,
   "metadata": {},
   "outputs": [],
   "source": [
    "temp_data.info()"
   ]
  },
  {
   "cell_type": "code",
   "execution_count": null,
   "metadata": {},
   "outputs": [],
   "source": [
    "data.index"
   ]
  },
  {
   "cell_type": "code",
   "execution_count": null,
   "metadata": {},
   "outputs": [],
   "source": [
    "data.info()"
   ]
  },
  {
   "cell_type": "code",
   "execution_count": null,
   "metadata": {},
   "outputs": [],
   "source": [
    "data = temp_data.join(data)"
   ]
  },
  {
   "cell_type": "code",
   "execution_count": null,
   "metadata": {},
   "outputs": [],
   "source": [
    "data.head()"
   ]
  },
  {
   "cell_type": "code",
   "execution_count": null,
   "metadata": {},
   "outputs": [],
   "source": [
    "# save the labeled data\n",
    "data.to_csv('input/labeled_data.csv',index=False)"
   ]
  },
  {
   "cell_type": "markdown",
   "metadata": {},
   "source": [
    "# Data Analysis"
   ]
  },
  {
   "cell_type": "code",
   "execution_count": null,
   "metadata": {},
   "outputs": [],
   "source": [
    "data.head()"
   ]
  },
  {
   "cell_type": "code",
   "execution_count": null,
   "metadata": {},
   "outputs": [],
   "source": [
    "sns.pairplot(data)"
   ]
  },
  {
   "cell_type": "code",
   "execution_count": null,
   "metadata": {},
   "outputs": [],
   "source": [
    "sns.set(style=\"white\", color_codes=True)\n",
    "sns.jointplot(x='PM2.5',y='RH',data=data)     "
   ]
  },
  {
   "cell_type": "code",
   "execution_count": null,
   "metadata": {},
   "outputs": [],
   "source": [
    "sns.set(style=\"white\", color_codes=True)\n",
    "sns.jointplot(x='CH4',y='RH',data=data)"
   ]
  },
  {
   "cell_type": "code",
   "execution_count": null,
   "metadata": {},
   "outputs": [],
   "source": [
    "sns.set(style=\"white\", color_codes=True)\n",
    "sns.jointplot(x='CH4',y='NOx',data=data)"
   ]
  },
  {
   "cell_type": "code",
   "execution_count": null,
   "metadata": {},
   "outputs": [],
   "source": [
    "sns.set(style=\"white\", color_codes=True)\n",
    "sns.jointplot(x='CO',y='SO2',data=data)"
   ]
  },
  {
   "cell_type": "code",
   "execution_count": null,
   "metadata": {},
   "outputs": [],
   "source": [
    "sns.set(style=\"white\", color_codes=True)\n",
    "sns.jointplot(x='NO2',y='O3',data=data)"
   ]
  },
  {
   "cell_type": "code",
   "execution_count": null,
   "metadata": {},
   "outputs": [],
   "source": [
    "sns.set(style=\"white\", color_codes=True)\n",
    "sns.jointplot(x='TEMP',y='RH',data=data)"
   ]
  },
  {
   "cell_type": "code",
   "execution_count": null,
   "metadata": {},
   "outputs": [],
   "source": [
    "sns.set(style=\"white\", color_codes=True)\n",
    "sns.jointplot(x='NO2',y='CO',data=data)"
   ]
  },
  {
   "cell_type": "markdown",
   "metadata": {},
   "source": [
    "# Train Test Split\n",
    "\n",
    "Now its time to split our data into a training set and a testing set!"
   ]
  },
  {
   "cell_type": "code",
   "execution_count": null,
   "metadata": {},
   "outputs": [],
   "source": [
    "from sklearn.model_selection import train_test_split"
   ]
  },
  {
   "cell_type": "code",
   "execution_count": null,
   "metadata": {},
   "outputs": [],
   "source": [
    "X = data.drop('label', axis=1)\n",
    "y = data['label']\n",
    "X_train, X_test, y_train, y_test = train_test_split(X, y, test_size=0.20)"
   ]
  },
  {
   "cell_type": "code",
   "execution_count": null,
   "metadata": {},
   "outputs": [],
   "source": [
    "X_train.to_excel('Training_Testing/X_train.xlsx')\n",
    "X_test.to_excel('Training_Testing/X_test.xlsx')\n",
    "y_train.to_excel('Training_Testing/y_train.xlsx')\n",
    "y_test.to_excel('Training_Testing/y_test.xlsx')"
   ]
  },
  {
   "cell_type": "markdown",
   "metadata": {},
   "source": [
    "# Training the Random Forest model"
   ]
  },
  {
   "cell_type": "code",
   "execution_count": null,
   "metadata": {},
   "outputs": [],
   "source": [
    "from sklearn.ensemble import RandomForestClassifier"
   ]
  },
  {
   "cell_type": "code",
   "execution_count": null,
   "metadata": {},
   "outputs": [],
   "source": [
    "rfc = RandomForestClassifier(n_estimators=600)"
   ]
  },
  {
   "cell_type": "code",
   "execution_count": null,
   "metadata": {},
   "outputs": [],
   "source": [
    "rfc.fit(X_train,y_train)"
   ]
  },
  {
   "cell_type": "markdown",
   "metadata": {},
   "source": [
    "# Predictions"
   ]
  },
  {
   "cell_type": "code",
   "execution_count": null,
   "metadata": {},
   "outputs": [],
   "source": [
    "predictions = rfc.predict(X_test)"
   ]
  },
  {
   "cell_type": "code",
   "execution_count": null,
   "metadata": {},
   "outputs": [],
   "source": [
    "predictions"
   ]
  },
  {
   "cell_type": "markdown",
   "metadata": {},
   "source": [
    "**Now create a classification report from the results**"
   ]
  },
  {
   "cell_type": "code",
   "execution_count": null,
   "metadata": {},
   "outputs": [],
   "source": [
    "from sklearn.metrics import classification_report,confusion_matrix"
   ]
  },
  {
   "cell_type": "code",
   "execution_count": null,
   "metadata": {},
   "outputs": [],
   "source": [
    "print(classification_report(y_test,predictions))"
   ]
  },
  {
   "cell_type": "code",
   "execution_count": null,
   "metadata": {},
   "outputs": [],
   "source": [
    "print(confusion_matrix(y_test,predictions))"
   ]
  },
  {
   "cell_type": "code",
   "execution_count": null,
   "metadata": {},
   "outputs": [],
   "source": [
    "CO = X_test.CO\n",
    "SO2 = X_test.SO2\n",
    "NO2 = X_test.NO2\n",
    "O3 = X_test.O3\n",
    "PM10 = X_test.PM10"
   ]
  },
  {
   "cell_type": "code",
   "execution_count": null,
   "metadata": {},
   "outputs": [],
   "source": [
    "CO_mean = CO.mean()\n",
    "SO2_mean = SO2.mean()\n",
    "NO2_mean = NO2.mean()\n",
    "O3_mean = O3.mean()\n",
    "PM10_mean = PM10.mean()"
   ]
  },
  {
   "cell_type": "code",
   "execution_count": null,
   "metadata": {},
   "outputs": [],
   "source": [
    "def checkCo(q):\n",
    "    v = ''\n",
    "    if q > 0 and q <= 1:\n",
    "        v = \"Good\"\n",
    "    elif q > 1.1 and q <= 2.0:\n",
    "        v = \"Satisfactory\"\n",
    "    elif q > 2.1 and q <= 10:\n",
    "        v = \"Moderately Polluted\"\n",
    "    elif q > 10 and q <= 17:\n",
    "        v = \"Poor\"\n",
    "    elif q > 17 and q <= 34:\n",
    "        v = \"Very Poor\"\n",
    "    else:\n",
    "        v = \"Severe\"\n",
    "        \n",
    "    print('CO-->  %2.3f    %s' %(q, v))\n",
    "        "
   ]
  },
  {
   "cell_type": "code",
   "execution_count": null,
   "metadata": {},
   "outputs": [],
   "source": [
    "def checkSO2(q):\n",
    "    v = ''\n",
    "    if q > 0 and q <= 40:\n",
    "        v = \"Good\"\n",
    "    elif q > 41 and q <= 80:\n",
    "        v = \"Satisfactory\"\n",
    "    elif q > 81 and q <= 380:\n",
    "        v = \"Moderately Polluted\"\n",
    "    elif q > 381 and q <= 800:\n",
    "        v = \"Poor\"\n",
    "    elif q > 801 and q <= 1600:\n",
    "        v = \"Very Poor\"\n",
    "    else:\n",
    "        v = \"Severe\"\n",
    "        \n",
    "    print('SO2-->  %2.3f    %s' %(q, v))"
   ]
  },
  {
   "cell_type": "code",
   "execution_count": null,
   "metadata": {},
   "outputs": [],
   "source": [
    "def checkNO2(q):\n",
    "    v = ''\n",
    "    if q > 0 and q <= 40:\n",
    "        v = \"Good\"\n",
    "    elif q > 41 and q <= 80:\n",
    "        v = \"Satisfactory\"\n",
    "    elif q > 81 and q <= 180:\n",
    "        v = \"Moderately Polluted\"\n",
    "    elif q > 181 and q <= 280:\n",
    "        v = \"Poor\"\n",
    "    elif q > 281 and q <= 400:\n",
    "        v = \"Very Poor\"\n",
    "    else:\n",
    "        v = \"Severe\"\n",
    "        \n",
    "    print('NO2-->  %2.3f    %s' %(q, v))"
   ]
  },
  {
   "cell_type": "code",
   "execution_count": null,
   "metadata": {},
   "outputs": [],
   "source": [
    "def checkO3(q):\n",
    "    v = ''\n",
    "    if q > 0 and q <= 50:\n",
    "        v = \"Good\"\n",
    "    elif q > 51 and q <= 100:\n",
    "        v = \"Satisfactory\"\n",
    "    elif q > 101 and q <= 168:\n",
    "        v = \"Moderately Polluted\"\n",
    "    elif q > 169 and q <= 208:\n",
    "        v = \"Poor\"\n",
    "    elif q > 209 and q <= 748:\n",
    "        v = \"Very Poor\"\n",
    "    else:\n",
    "        v = \"Severe\"\n",
    "        \n",
    "    print('O3-->  %2.3f    %s' %(q, v))"
   ]
  },
  {
   "cell_type": "code",
   "execution_count": null,
   "metadata": {},
   "outputs": [],
   "source": [
    "def checkPM(q):\n",
    "    v = ''\n",
    "    if q > 0 and q <= 50:\n",
    "        v = \"Good\"\n",
    "    elif q > 51 and q <= 100:\n",
    "        v = \"Satisfactory\"\n",
    "    elif q > 101 and q <= 250:\n",
    "        v = \"Moderately Polluted\"\n",
    "    elif q > 251 and q <= 350:\n",
    "        v = \"Poor\"\n",
    "    elif q > 351 and q <= 430:\n",
    "        v = \"Very Poor\"\n",
    "    else:\n",
    "        v = \"Severe\"\n",
    "        \n",
    "    print('PM-->  %2.3f    %s' %(q, v))"
   ]
  },
  {
   "cell_type": "markdown",
   "metadata": {},
   "source": [
    "# Air Quality Analysis"
   ]
  },
  {
   "cell_type": "code",
   "execution_count": null,
   "metadata": {},
   "outputs": [],
   "source": [
    "l = [checkCo(CO_mean), checkSO2(SO2_mean), checkNO2(NO2_mean), checkO3(O3_mean), checkPM(PM10_mean)]"
   ]
  },
  {
   "cell_type": "markdown",
   "metadata": {},
   "source": [
    "# Real Time Prediction"
   ]
  },
  {
   "cell_type": "code",
   "execution_count": null,
   "metadata": {},
   "outputs": [],
   "source": [
    "x_test_dt = [[56,27,2.1,0.14,0.2,17,0.79,23,37,20,199,12]]"
   ]
  },
  {
   "cell_type": "code",
   "execution_count": null,
   "metadata": {},
   "outputs": [],
   "source": [
    "df = pd.DataFrame(x_test_dt)"
   ]
  },
  {
   "cell_type": "code",
   "execution_count": null,
   "metadata": {},
   "outputs": [],
   "source": [
    "pred = rfc.predict(df)"
   ]
  },
  {
   "cell_type": "code",
   "execution_count": null,
   "metadata": {},
   "outputs": [],
   "source": [
    "print (pred)"
   ]
  },
  {
   "cell_type": "code",
   "execution_count": null,
   "metadata": {},
   "outputs": [],
   "source": []
  }
 ],
 "metadata": {
  "kernelspec": {
   "display_name": "Python 3 (ipykernel)",
   "language": "python",
   "name": "python3"
  },
  "language_info": {
   "codemirror_mode": {
    "name": "ipython",
    "version": 3
   },
   "file_extension": ".py",
   "mimetype": "text/x-python",
   "name": "python",
   "nbconvert_exporter": "python",
   "pygments_lexer": "ipython3",
   "version": "3.11.5"
  }
 },
 "nbformat": 4,
 "nbformat_minor": 2
}
